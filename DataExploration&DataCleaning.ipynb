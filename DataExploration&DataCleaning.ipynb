{
 "cells": [
  {
   "cell_type": "code",
   "execution_count": 1,
   "metadata": {},
   "outputs": [],
   "source": [
    "import pandas as pd"
   ]
  },
  {
   "cell_type": "code",
   "execution_count": 2,
   "metadata": {},
   "outputs": [],
   "source": [
    "df = pd.read_excel('Dummy_Dataset.xlsx')"
   ]
  },
  {
   "cell_type": "code",
   "execution_count": 3,
   "metadata": {},
   "outputs": [
    {
     "data": {
      "text/html": [
       "<div>\n",
       "<style scoped>\n",
       "    .dataframe tbody tr th:only-of-type {\n",
       "        vertical-align: middle;\n",
       "    }\n",
       "\n",
       "    .dataframe tbody tr th {\n",
       "        vertical-align: top;\n",
       "    }\n",
       "\n",
       "    .dataframe thead th {\n",
       "        text-align: right;\n",
       "    }\n",
       "</style>\n",
       "<table border=\"1\" class=\"dataframe\">\n",
       "  <thead>\n",
       "    <tr style=\"text-align: right;\">\n",
       "      <th></th>\n",
       "      <th>Name</th>\n",
       "      <th>Stage Name</th>\n",
       "      <th>Amount</th>\n",
       "      <th>Close Date</th>\n",
       "      <th>Type</th>\n",
       "      <th>Lead Source</th>\n",
       "      <th>Created Date</th>\n",
       "      <th>Loss Reason</th>\n",
       "      <th>Project Name</th>\n",
       "      <th>Project Location</th>\n",
       "    </tr>\n",
       "  </thead>\n",
       "  <tbody>\n",
       "    <tr>\n",
       "      <th>0</th>\n",
       "      <td>Client 1</td>\n",
       "      <td>Lost order</td>\n",
       "      <td>5616.0</td>\n",
       "      <td>2019-04-22</td>\n",
       "      <td>New Business</td>\n",
       "      <td>Phone</td>\n",
       "      <td>2019-04-30 08:49:52</td>\n",
       "      <td>Price</td>\n",
       "      <td>Project 1</td>\n",
       "      <td>Abu Dhabi Region</td>\n",
       "    </tr>\n",
       "    <tr>\n",
       "      <th>1</th>\n",
       "      <td>Client 2</td>\n",
       "      <td>Lost order</td>\n",
       "      <td>1840.0</td>\n",
       "      <td>2019-01-29</td>\n",
       "      <td>NaN</td>\n",
       "      <td>NaN</td>\n",
       "      <td>2019-04-27 07:43:51</td>\n",
       "      <td>NaN</td>\n",
       "      <td>Project 2</td>\n",
       "      <td>Abu Dhabi</td>\n",
       "    </tr>\n",
       "    <tr>\n",
       "      <th>2</th>\n",
       "      <td>Client 3</td>\n",
       "      <td>Lost order</td>\n",
       "      <td>0.0</td>\n",
       "      <td>2019-01-21</td>\n",
       "      <td>NaN</td>\n",
       "      <td>NaN</td>\n",
       "      <td>2019-04-27 07:16:53</td>\n",
       "      <td>NaN</td>\n",
       "      <td>Project 3</td>\n",
       "      <td>Abu Dhabi</td>\n",
       "    </tr>\n",
       "    <tr>\n",
       "      <th>3</th>\n",
       "      <td>Client 4</td>\n",
       "      <td>Lost order</td>\n",
       "      <td>37370.0</td>\n",
       "      <td>2019-04-13</td>\n",
       "      <td>New Business</td>\n",
       "      <td>Phone</td>\n",
       "      <td>2019-04-29 13:46:46</td>\n",
       "      <td>No Decision / Non-Responsive</td>\n",
       "      <td>Project 4</td>\n",
       "      <td>Abu Dhabi</td>\n",
       "    </tr>\n",
       "    <tr>\n",
       "      <th>4</th>\n",
       "      <td>Client 5</td>\n",
       "      <td>Lost order</td>\n",
       "      <td>4720.0</td>\n",
       "      <td>2019-04-13</td>\n",
       "      <td>New Business</td>\n",
       "      <td>Phone</td>\n",
       "      <td>2019-04-29 12:33:56</td>\n",
       "      <td>Other</td>\n",
       "      <td>Project 5</td>\n",
       "      <td>Abu Dhabi</td>\n",
       "    </tr>\n",
       "  </tbody>\n",
       "</table>\n",
       "</div>"
      ],
      "text/plain": [
       "       Name  Stage Name   Amount Close Date          Type Lead Source  \\\n",
       "0  Client 1  Lost order   5616.0 2019-04-22  New Business       Phone   \n",
       "1  Client 2  Lost order   1840.0 2019-01-29           NaN         NaN   \n",
       "2  Client 3  Lost order      0.0 2019-01-21           NaN         NaN   \n",
       "3  Client 4  Lost order  37370.0 2019-04-13  New Business       Phone   \n",
       "4  Client 5  Lost order   4720.0 2019-04-13  New Business       Phone   \n",
       "\n",
       "         Created Date                   Loss Reason Project Name  \\\n",
       "0 2019-04-30 08:49:52                         Price    Project 1   \n",
       "1 2019-04-27 07:43:51                           NaN    Project 2   \n",
       "2 2019-04-27 07:16:53                           NaN    Project 3   \n",
       "3 2019-04-29 13:46:46  No Decision / Non-Responsive    Project 4   \n",
       "4 2019-04-29 12:33:56                         Other    Project 5   \n",
       "\n",
       "   Project Location  \n",
       "0  Abu Dhabi Region  \n",
       "1         Abu Dhabi  \n",
       "2         Abu Dhabi  \n",
       "3         Abu Dhabi  \n",
       "4         Abu Dhabi  "
      ]
     },
     "execution_count": 3,
     "metadata": {},
     "output_type": "execute_result"
    }
   ],
   "source": [
    "df.head()"
   ]
  },
  {
   "cell_type": "code",
   "execution_count": 4,
   "metadata": {},
   "outputs": [],
   "source": [
    "df.rename(columns = {'Name':'Client Name', 'Stage Name':'Order Result', 'Type':'Business Type'}, inplace=True)"
   ]
  },
  {
   "cell_type": "code",
   "execution_count": 5,
   "metadata": {},
   "outputs": [
    {
     "data": {
      "text/html": [
       "<div>\n",
       "<style scoped>\n",
       "    .dataframe tbody tr th:only-of-type {\n",
       "        vertical-align: middle;\n",
       "    }\n",
       "\n",
       "    .dataframe tbody tr th {\n",
       "        vertical-align: top;\n",
       "    }\n",
       "\n",
       "    .dataframe thead th {\n",
       "        text-align: right;\n",
       "    }\n",
       "</style>\n",
       "<table border=\"1\" class=\"dataframe\">\n",
       "  <thead>\n",
       "    <tr style=\"text-align: right;\">\n",
       "      <th></th>\n",
       "      <th>Client Name</th>\n",
       "      <th>Order Result</th>\n",
       "      <th>Amount</th>\n",
       "      <th>Close Date</th>\n",
       "      <th>Business Type</th>\n",
       "      <th>Lead Source</th>\n",
       "      <th>Created Date</th>\n",
       "      <th>Loss Reason</th>\n",
       "      <th>Project Name</th>\n",
       "      <th>Project Location</th>\n",
       "    </tr>\n",
       "  </thead>\n",
       "  <tbody>\n",
       "    <tr>\n",
       "      <th>0</th>\n",
       "      <td>Client 1</td>\n",
       "      <td>Lost order</td>\n",
       "      <td>5616.0</td>\n",
       "      <td>2019-04-22</td>\n",
       "      <td>New Business</td>\n",
       "      <td>Phone</td>\n",
       "      <td>2019-04-30 08:49:52</td>\n",
       "      <td>Price</td>\n",
       "      <td>Project 1</td>\n",
       "      <td>Abu Dhabi Region</td>\n",
       "    </tr>\n",
       "    <tr>\n",
       "      <th>1</th>\n",
       "      <td>Client 2</td>\n",
       "      <td>Lost order</td>\n",
       "      <td>1840.0</td>\n",
       "      <td>2019-01-29</td>\n",
       "      <td>NaN</td>\n",
       "      <td>NaN</td>\n",
       "      <td>2019-04-27 07:43:51</td>\n",
       "      <td>NaN</td>\n",
       "      <td>Project 2</td>\n",
       "      <td>Abu Dhabi</td>\n",
       "    </tr>\n",
       "    <tr>\n",
       "      <th>2</th>\n",
       "      <td>Client 3</td>\n",
       "      <td>Lost order</td>\n",
       "      <td>0.0</td>\n",
       "      <td>2019-01-21</td>\n",
       "      <td>NaN</td>\n",
       "      <td>NaN</td>\n",
       "      <td>2019-04-27 07:16:53</td>\n",
       "      <td>NaN</td>\n",
       "      <td>Project 3</td>\n",
       "      <td>Abu Dhabi</td>\n",
       "    </tr>\n",
       "    <tr>\n",
       "      <th>3</th>\n",
       "      <td>Client 4</td>\n",
       "      <td>Lost order</td>\n",
       "      <td>37370.0</td>\n",
       "      <td>2019-04-13</td>\n",
       "      <td>New Business</td>\n",
       "      <td>Phone</td>\n",
       "      <td>2019-04-29 13:46:46</td>\n",
       "      <td>No Decision / Non-Responsive</td>\n",
       "      <td>Project 4</td>\n",
       "      <td>Abu Dhabi</td>\n",
       "    </tr>\n",
       "    <tr>\n",
       "      <th>4</th>\n",
       "      <td>Client 5</td>\n",
       "      <td>Lost order</td>\n",
       "      <td>4720.0</td>\n",
       "      <td>2019-04-13</td>\n",
       "      <td>New Business</td>\n",
       "      <td>Phone</td>\n",
       "      <td>2019-04-29 12:33:56</td>\n",
       "      <td>Other</td>\n",
       "      <td>Project 5</td>\n",
       "      <td>Abu Dhabi</td>\n",
       "    </tr>\n",
       "  </tbody>\n",
       "</table>\n",
       "</div>"
      ],
      "text/plain": [
       "  Client Name Order Result   Amount Close Date Business Type Lead Source  \\\n",
       "0    Client 1   Lost order   5616.0 2019-04-22  New Business       Phone   \n",
       "1    Client 2   Lost order   1840.0 2019-01-29           NaN         NaN   \n",
       "2    Client 3   Lost order      0.0 2019-01-21           NaN         NaN   \n",
       "3    Client 4   Lost order  37370.0 2019-04-13  New Business       Phone   \n",
       "4    Client 5   Lost order   4720.0 2019-04-13  New Business       Phone   \n",
       "\n",
       "         Created Date                   Loss Reason Project Name  \\\n",
       "0 2019-04-30 08:49:52                         Price    Project 1   \n",
       "1 2019-04-27 07:43:51                           NaN    Project 2   \n",
       "2 2019-04-27 07:16:53                           NaN    Project 3   \n",
       "3 2019-04-29 13:46:46  No Decision / Non-Responsive    Project 4   \n",
       "4 2019-04-29 12:33:56                         Other    Project 5   \n",
       "\n",
       "   Project Location  \n",
       "0  Abu Dhabi Region  \n",
       "1         Abu Dhabi  \n",
       "2         Abu Dhabi  \n",
       "3         Abu Dhabi  \n",
       "4         Abu Dhabi  "
      ]
     },
     "execution_count": 5,
     "metadata": {},
     "output_type": "execute_result"
    }
   ],
   "source": [
    "df.head()"
   ]
  },
  {
   "cell_type": "code",
   "execution_count": 6,
   "metadata": {},
   "outputs": [
    {
     "name": "stdout",
     "output_type": "stream",
     "text": [
      "<class 'pandas.core.frame.DataFrame'>\n",
      "RangeIndex: 244 entries, 0 to 243\n",
      "Data columns (total 10 columns):\n",
      "Client Name         244 non-null object\n",
      "Order Result        244 non-null object\n",
      "Amount              244 non-null float64\n",
      "Close Date          244 non-null datetime64[ns]\n",
      "Business Type       134 non-null object\n",
      "Lead Source         136 non-null object\n",
      "Created Date        244 non-null datetime64[ns]\n",
      "Loss Reason         107 non-null object\n",
      "Project Name        242 non-null object\n",
      "Project Location    195 non-null object\n",
      "dtypes: datetime64[ns](2), float64(1), object(7)\n",
      "memory usage: 19.1+ KB\n"
     ]
    }
   ],
   "source": [
    "df.info()"
   ]
  },
  {
   "cell_type": "code",
   "execution_count": 7,
   "metadata": {
    "scrolled": true
   },
   "outputs": [
    {
     "data": {
      "text/plain": [
       "Client 213    6\n",
       "Client 21     4\n",
       "Client 86     4\n",
       "Client 186    3\n",
       "Client 49     3\n",
       "Client 29     2\n",
       "Client 182    2\n",
       "Client 6      2\n",
       "Client 5      2\n",
       "Client 52     2\n",
       "Client 108    2\n",
       "Client 175    2\n",
       "Client 183    2\n",
       "Client 45     2\n",
       "Client 27     2\n",
       "Client 118    2\n",
       "Client 22     2\n",
       "Client 11     2\n",
       "Client 196    2\n",
       "Client 138    1\n",
       "Client 205    1\n",
       "Client 146    1\n",
       "Client 189    1\n",
       "Client 124    1\n",
       "Client 104    1\n",
       "Client 128    1\n",
       "Client 84     1\n",
       "Client 110    1\n",
       "Client 34     1\n",
       "Client 70     1\n",
       "             ..\n",
       "Client 119    1\n",
       "Client 13     1\n",
       "Client 163    1\n",
       "Client 113    1\n",
       "Client 69     1\n",
       "Client 114    1\n",
       "Client 161    1\n",
       "Client 42     1\n",
       "Client 12     1\n",
       "Client 56     1\n",
       "Client 58     1\n",
       "Client 117    1\n",
       "Client 80     1\n",
       "Client 174    1\n",
       "Client 85     1\n",
       "Client 15     1\n",
       "Client 61     1\n",
       "Client 10     1\n",
       "Client 53     1\n",
       "Client 211    1\n",
       "Client 97     1\n",
       "Client 63     1\n",
       "Client 1      1\n",
       "Client 179    1\n",
       "Client 30     1\n",
       "Client 160    1\n",
       "Client 90     1\n",
       "Client 155    1\n",
       "Client 143    1\n",
       "Client 137    1\n",
       "Name: Client Name, Length: 215, dtype: int64"
      ]
     },
     "execution_count": 7,
     "metadata": {},
     "output_type": "execute_result"
    }
   ],
   "source": [
    "df['Client Name'].value_counts(dropna = False)"
   ]
  },
  {
   "cell_type": "code",
   "execution_count": 8,
   "metadata": {},
   "outputs": [
    {
     "data": {
      "text/plain": [
       "count            244\n",
       "unique           215\n",
       "top       Client 213\n",
       "freq               6\n",
       "Name: Client Name, dtype: object"
      ]
     },
     "execution_count": 8,
     "metadata": {},
     "output_type": "execute_result"
    }
   ],
   "source": [
    "df['Client Name'].describe()"
   ]
  },
  {
   "cell_type": "code",
   "execution_count": 9,
   "metadata": {
    "scrolled": true
   },
   "outputs": [
    {
     "data": {
      "text/plain": [
       "Lost order    175\n",
       "Won order      69\n",
       "Name: Order Result, dtype: int64"
      ]
     },
     "execution_count": 9,
     "metadata": {},
     "output_type": "execute_result"
    }
   ],
   "source": [
    "df['Order Result'].value_counts(dropna = False)"
   ]
  },
  {
   "cell_type": "code",
   "execution_count": 10,
   "metadata": {},
   "outputs": [
    {
     "data": {
      "text/plain": [
       "count            244\n",
       "unique             2\n",
       "top       Lost order\n",
       "freq             175\n",
       "Name: Order Result, dtype: object"
      ]
     },
     "execution_count": 10,
     "metadata": {},
     "output_type": "execute_result"
    }
   ],
   "source": [
    "df['Order Result'].describe()"
   ]
  },
  {
   "cell_type": "code",
   "execution_count": 11,
   "metadata": {
    "scrolled": true
   },
   "outputs": [
    {
     "data": {
      "text/plain": [
       "count       244.000000\n",
       "mean       4684.672132\n",
       "std       26342.299172\n",
       "min           0.000000\n",
       "25%         287.500000\n",
       "50%         625.000000\n",
       "75%        1850.000000\n",
       "max      372000.000000\n",
       "Name: Amount, dtype: float64"
      ]
     },
     "execution_count": 11,
     "metadata": {},
     "output_type": "execute_result"
    }
   ],
   "source": [
    "df['Amount'].describe()"
   ]
  },
  {
   "cell_type": "code",
   "execution_count": 13,
   "metadata": {},
   "outputs": [
    {
     "data": {
      "text/plain": [
       "count                   134\n",
       "unique                    2\n",
       "top       Existing Business\n",
       "freq                     69\n",
       "Name: Business Type, dtype: object"
      ]
     },
     "execution_count": 13,
     "metadata": {},
     "output_type": "execute_result"
    }
   ],
   "source": [
    "df['Business Type'].describe()"
   ]
  },
  {
   "cell_type": "code",
   "execution_count": 14,
   "metadata": {},
   "outputs": [
    {
     "data": {
      "text/plain": [
       "NaN                  110\n",
       "Existing Business     69\n",
       "New Business          65\n",
       "Name: Business Type, dtype: int64"
      ]
     },
     "execution_count": 14,
     "metadata": {},
     "output_type": "execute_result"
    }
   ],
   "source": [
    "df['Business Type'].value_counts(dropna = False)"
   ]
  },
  {
   "cell_type": "code",
   "execution_count": 15,
   "metadata": {},
   "outputs": [
    {
     "data": {
      "text/plain": [
       "NaN                             137\n",
       "Price                            42\n",
       "No Decision / Non-Responsive     33\n",
       "Other                             9\n",
       "Order revised                     8\n",
       "Rate fishing                      7\n",
       "Equipment unavailable             3\n",
       "Project                           2\n",
       "No Budget / Lost Funding          2\n",
       "Cross hirer                       1\n",
       "Name: Loss Reason, dtype: int64"
      ]
     },
     "execution_count": 15,
     "metadata": {},
     "output_type": "execute_result"
    }
   ],
   "source": [
    "df['Loss Reason'].value_counts(dropna = False)"
   ]
  },
  {
   "cell_type": "code",
   "execution_count": 16,
   "metadata": {},
   "outputs": [
    {
     "data": {
      "text/plain": [
       "count       107\n",
       "unique        9\n",
       "top       Price\n",
       "freq         42\n",
       "Name: Loss Reason, dtype: object"
      ]
     },
     "execution_count": 16,
     "metadata": {},
     "output_type": "execute_result"
    }
   ],
   "source": [
    "df['Loss Reason'].describe()"
   ]
  },
  {
   "cell_type": "code",
   "execution_count": 17,
   "metadata": {},
   "outputs": [
    {
     "data": {
      "text/plain": [
       "count             242\n",
       "unique            184\n",
       "top       Project 133\n",
       "freq               28\n",
       "Name: Project Name, dtype: object"
      ]
     },
     "execution_count": 17,
     "metadata": {},
     "output_type": "execute_result"
    }
   ],
   "source": [
    "df['Project Name'].describe()"
   ]
  },
  {
   "cell_type": "code",
   "execution_count": 18,
   "metadata": {},
   "outputs": [
    {
     "data": {
      "text/plain": [
       "count       195\n",
       "unique      103\n",
       "top       Dubai\n",
       "freq         12\n",
       "Name: Project Location, dtype: object"
      ]
     },
     "execution_count": 18,
     "metadata": {},
     "output_type": "execute_result"
    }
   ],
   "source": [
    "df['Project Location'].describe()"
   ]
  },
  {
   "cell_type": "code",
   "execution_count": 19,
   "metadata": {
    "scrolled": true
   },
   "outputs": [
    {
     "data": {
      "text/plain": [
       "Dubai                                12\n",
       "Abu Dhabi                            11\n",
       "Dubai Hills                          10\n",
       "TBA                                   9\n",
       "Sharjah                               8\n",
       "Fujairah                              8\n",
       "Jebel Ali                             7\n",
       "Expo 2020                             7\n",
       "Expo2020                              5\n",
       "Al Warqa                              5\n",
       "United Arab Emirates                  4\n",
       "Solar Park                            4\n",
       "Musafi Fujairah                       3\n",
       "Deira Waterfront                      3\n",
       "Khalifa Port                          3\n",
       "La Mer                                2\n",
       "Global Village                        2\n",
       "Dubai South                           2\n",
       "Mirdiff                               2\n",
       "Dubai Silicon Oasis                   2\n",
       "Noor 764 Townhouses                   2\n",
       "Zahia City Center, Sharjah            2\n",
       "Al Qudra                              2\n",
       "Al Mariya Island, Abu Dhabi           1\n",
       "Al Ain                                1\n",
       "Abu Dhabi Region                      1\n",
       "Solar park Dubai                      1\n",
       "Dibba, Fujairah                       1\n",
       "DIP 2                                 1\n",
       "Solar Park, Dubai                     1\n",
       "                                     ..\n",
       "zahia city center Project Sharjah     1\n",
       "Debate Al Habab                       1\n",
       "Jumeirah Village Triangle             1\n",
       "Nad Al Shiba                          1\n",
       "Ghantoot                              1\n",
       "Sharjah near Tilal City               1\n",
       "FUJAIRAH                              1\n",
       "R1086, Dubai Hills                    1\n",
       "Noor 764 Town Houses                  1\n",
       "Sheikh Khalifa Road Completion        1\n",
       "Dubai-National Industries Park        1\n",
       "Nishama                               1\n",
       "Reem Island                           1\n",
       "Mussafah, Abu Dhabi                   1\n",
       "Margam Area                           1\n",
       "Gunal Project                         1\n",
       "Khalifa City                          1\n",
       "Dubai Design District                 1\n",
       "Mirfa                                 1\n",
       "Al Qusais                             1\n",
       "IBN Battuta                           1\n",
       "Al Barsha, Al Khail Road, Dubai       1\n",
       "Dubai Land, Dubai                     1\n",
       "Al Faqa, Abu Dhabi                    1\n",
       "Al Furjan, Dubai                      1\n",
       "JAFZA, Dubai                          1\n",
       "Awir Road                             1\n",
       "Al Mariyah Island, Abu Dhabi          1\n",
       "Musafi, Fujairah                      1\n",
       "Al Nakheel Island, Dubai              1\n",
       "Name: Project Location, Length: 103, dtype: int64"
      ]
     },
     "execution_count": 19,
     "metadata": {},
     "output_type": "execute_result"
    }
   ],
   "source": [
    "df['Project Location'].value_counts()"
   ]
  },
  {
   "cell_type": "code",
   "execution_count": 20,
   "metadata": {},
   "outputs": [],
   "source": [
    "df.to_pickle('clean_dummy_data.pkl')"
   ]
  }
 ],
 "metadata": {
  "kernelspec": {
   "display_name": "Python 3",
   "language": "python",
   "name": "python3"
  },
  "language_info": {
   "codemirror_mode": {
    "name": "ipython",
    "version": 3
   },
   "file_extension": ".py",
   "mimetype": "text/x-python",
   "name": "python",
   "nbconvert_exporter": "python",
   "pygments_lexer": "ipython3",
   "version": "3.6.5"
  }
 },
 "nbformat": 4,
 "nbformat_minor": 2
}
