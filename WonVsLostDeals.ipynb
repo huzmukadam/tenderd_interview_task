{
 "cells": [
  {
   "cell_type": "code",
   "execution_count": 1,
   "metadata": {},
   "outputs": [],
   "source": [
    "import pandas as pd"
   ]
  },
  {
   "cell_type": "code",
   "execution_count": 2,
   "metadata": {},
   "outputs": [],
   "source": [
    "df = pd.read_pickle('clean_dummy_data.pkl')"
   ]
  },
  {
   "cell_type": "code",
   "execution_count": 3,
   "metadata": {},
   "outputs": [
    {
     "data": {
      "text/html": [
       "<div>\n",
       "<style scoped>\n",
       "    .dataframe tbody tr th:only-of-type {\n",
       "        vertical-align: middle;\n",
       "    }\n",
       "\n",
       "    .dataframe tbody tr th {\n",
       "        vertical-align: top;\n",
       "    }\n",
       "\n",
       "    .dataframe thead th {\n",
       "        text-align: right;\n",
       "    }\n",
       "</style>\n",
       "<table border=\"1\" class=\"dataframe\">\n",
       "  <thead>\n",
       "    <tr style=\"text-align: right;\">\n",
       "      <th></th>\n",
       "      <th>Client Name</th>\n",
       "      <th>Order Result</th>\n",
       "      <th>Amount</th>\n",
       "      <th>Close Date</th>\n",
       "      <th>Business Type</th>\n",
       "      <th>Lead Source</th>\n",
       "      <th>Created Date</th>\n",
       "      <th>Loss Reason</th>\n",
       "      <th>Project Name</th>\n",
       "      <th>Project Location</th>\n",
       "    </tr>\n",
       "  </thead>\n",
       "  <tbody>\n",
       "    <tr>\n",
       "      <th>0</th>\n",
       "      <td>Client 1</td>\n",
       "      <td>Lost order</td>\n",
       "      <td>5616.0</td>\n",
       "      <td>2019-04-22</td>\n",
       "      <td>New Business</td>\n",
       "      <td>Phone</td>\n",
       "      <td>2019-04-30 08:49:52</td>\n",
       "      <td>Price</td>\n",
       "      <td>Project 1</td>\n",
       "      <td>Abu Dhabi Region</td>\n",
       "    </tr>\n",
       "    <tr>\n",
       "      <th>1</th>\n",
       "      <td>Client 2</td>\n",
       "      <td>Lost order</td>\n",
       "      <td>1840.0</td>\n",
       "      <td>2019-01-29</td>\n",
       "      <td>NaN</td>\n",
       "      <td>NaN</td>\n",
       "      <td>2019-04-27 07:43:51</td>\n",
       "      <td>NaN</td>\n",
       "      <td>Project 2</td>\n",
       "      <td>Abu Dhabi</td>\n",
       "    </tr>\n",
       "    <tr>\n",
       "      <th>2</th>\n",
       "      <td>Client 3</td>\n",
       "      <td>Lost order</td>\n",
       "      <td>0.0</td>\n",
       "      <td>2019-01-21</td>\n",
       "      <td>NaN</td>\n",
       "      <td>NaN</td>\n",
       "      <td>2019-04-27 07:16:53</td>\n",
       "      <td>NaN</td>\n",
       "      <td>Project 3</td>\n",
       "      <td>Abu Dhabi</td>\n",
       "    </tr>\n",
       "    <tr>\n",
       "      <th>3</th>\n",
       "      <td>Client 4</td>\n",
       "      <td>Lost order</td>\n",
       "      <td>37370.0</td>\n",
       "      <td>2019-04-13</td>\n",
       "      <td>New Business</td>\n",
       "      <td>Phone</td>\n",
       "      <td>2019-04-29 13:46:46</td>\n",
       "      <td>No Decision / Non-Responsive</td>\n",
       "      <td>Project 4</td>\n",
       "      <td>Abu Dhabi</td>\n",
       "    </tr>\n",
       "    <tr>\n",
       "      <th>4</th>\n",
       "      <td>Client 5</td>\n",
       "      <td>Lost order</td>\n",
       "      <td>4720.0</td>\n",
       "      <td>2019-04-13</td>\n",
       "      <td>New Business</td>\n",
       "      <td>Phone</td>\n",
       "      <td>2019-04-29 12:33:56</td>\n",
       "      <td>Other</td>\n",
       "      <td>Project 5</td>\n",
       "      <td>Abu Dhabi</td>\n",
       "    </tr>\n",
       "  </tbody>\n",
       "</table>\n",
       "</div>"
      ],
      "text/plain": [
       "  Client Name Order Result   Amount Close Date Business Type Lead Source  \\\n",
       "0    Client 1   Lost order   5616.0 2019-04-22  New Business       Phone   \n",
       "1    Client 2   Lost order   1840.0 2019-01-29           NaN         NaN   \n",
       "2    Client 3   Lost order      0.0 2019-01-21           NaN         NaN   \n",
       "3    Client 4   Lost order  37370.0 2019-04-13  New Business       Phone   \n",
       "4    Client 5   Lost order   4720.0 2019-04-13  New Business       Phone   \n",
       "\n",
       "         Created Date                   Loss Reason Project Name  \\\n",
       "0 2019-04-30 08:49:52                         Price    Project 1   \n",
       "1 2019-04-27 07:43:51                           NaN    Project 2   \n",
       "2 2019-04-27 07:16:53                           NaN    Project 3   \n",
       "3 2019-04-29 13:46:46  No Decision / Non-Responsive    Project 4   \n",
       "4 2019-04-29 12:33:56                         Other    Project 5   \n",
       "\n",
       "   Project Location  \n",
       "0  Abu Dhabi Region  \n",
       "1         Abu Dhabi  \n",
       "2         Abu Dhabi  \n",
       "3         Abu Dhabi  \n",
       "4         Abu Dhabi  "
      ]
     },
     "execution_count": 3,
     "metadata": {},
     "output_type": "execute_result"
    }
   ],
   "source": [
    "df.head()"
   ]
  },
  {
   "cell_type": "code",
   "execution_count": 4,
   "metadata": {},
   "outputs": [],
   "source": [
    "df_results = pd.DataFrame(df, columns = ['Order Result', 'Business Type', 'Lead Source', 'Loss Reason', 'Close Date'])"
   ]
  },
  {
   "cell_type": "code",
   "execution_count": 5,
   "metadata": {},
   "outputs": [
    {
     "data": {
      "text/html": [
       "<div>\n",
       "<style scoped>\n",
       "    .dataframe tbody tr th:only-of-type {\n",
       "        vertical-align: middle;\n",
       "    }\n",
       "\n",
       "    .dataframe tbody tr th {\n",
       "        vertical-align: top;\n",
       "    }\n",
       "\n",
       "    .dataframe thead th {\n",
       "        text-align: right;\n",
       "    }\n",
       "</style>\n",
       "<table border=\"1\" class=\"dataframe\">\n",
       "  <thead>\n",
       "    <tr style=\"text-align: right;\">\n",
       "      <th></th>\n",
       "      <th>Order Result</th>\n",
       "      <th>Business Type</th>\n",
       "      <th>Lead Source</th>\n",
       "      <th>Loss Reason</th>\n",
       "      <th>Close Date</th>\n",
       "    </tr>\n",
       "  </thead>\n",
       "  <tbody>\n",
       "    <tr>\n",
       "      <th>0</th>\n",
       "      <td>Lost order</td>\n",
       "      <td>New Business</td>\n",
       "      <td>Phone</td>\n",
       "      <td>Price</td>\n",
       "      <td>2019-04-22</td>\n",
       "    </tr>\n",
       "    <tr>\n",
       "      <th>1</th>\n",
       "      <td>Lost order</td>\n",
       "      <td>NaN</td>\n",
       "      <td>NaN</td>\n",
       "      <td>NaN</td>\n",
       "      <td>2019-01-29</td>\n",
       "    </tr>\n",
       "    <tr>\n",
       "      <th>2</th>\n",
       "      <td>Lost order</td>\n",
       "      <td>NaN</td>\n",
       "      <td>NaN</td>\n",
       "      <td>NaN</td>\n",
       "      <td>2019-01-21</td>\n",
       "    </tr>\n",
       "    <tr>\n",
       "      <th>3</th>\n",
       "      <td>Lost order</td>\n",
       "      <td>New Business</td>\n",
       "      <td>Phone</td>\n",
       "      <td>No Decision / Non-Responsive</td>\n",
       "      <td>2019-04-13</td>\n",
       "    </tr>\n",
       "    <tr>\n",
       "      <th>4</th>\n",
       "      <td>Lost order</td>\n",
       "      <td>New Business</td>\n",
       "      <td>Phone</td>\n",
       "      <td>Other</td>\n",
       "      <td>2019-04-13</td>\n",
       "    </tr>\n",
       "  </tbody>\n",
       "</table>\n",
       "</div>"
      ],
      "text/plain": [
       "  Order Result Business Type Lead Source                   Loss Reason  \\\n",
       "0   Lost order  New Business       Phone                         Price   \n",
       "1   Lost order           NaN         NaN                           NaN   \n",
       "2   Lost order           NaN         NaN                           NaN   \n",
       "3   Lost order  New Business       Phone  No Decision / Non-Responsive   \n",
       "4   Lost order  New Business       Phone                         Other   \n",
       "\n",
       "  Close Date  \n",
       "0 2019-04-22  \n",
       "1 2019-01-29  \n",
       "2 2019-01-21  \n",
       "3 2019-04-13  \n",
       "4 2019-04-13  "
      ]
     },
     "execution_count": 5,
     "metadata": {},
     "output_type": "execute_result"
    }
   ],
   "source": [
    "df_results.head()"
   ]
  },
  {
   "cell_type": "code",
   "execution_count": 6,
   "metadata": {},
   "outputs": [],
   "source": [
    "import matplotlib.pyplot as plt\n",
    "import seaborn as sns\n",
    "plt.style.use('ggplot')  # sets up pretty plots\n",
    "%matplotlib inline"
   ]
  },
  {
   "cell_type": "markdown",
   "metadata": {},
   "source": [
    "### Spread of wins and losses by business type"
   ]
  },
  {
   "cell_type": "code",
   "execution_count": 7,
   "metadata": {},
   "outputs": [
    {
     "data": {
      "text/html": [
       "<div>\n",
       "<style scoped>\n",
       "    .dataframe tbody tr th:only-of-type {\n",
       "        vertical-align: middle;\n",
       "    }\n",
       "\n",
       "    .dataframe tbody tr th {\n",
       "        vertical-align: top;\n",
       "    }\n",
       "\n",
       "    .dataframe thead th {\n",
       "        text-align: right;\n",
       "    }\n",
       "</style>\n",
       "<table border=\"1\" class=\"dataframe\">\n",
       "  <thead>\n",
       "    <tr style=\"text-align: right;\">\n",
       "      <th>Business Type</th>\n",
       "      <th>Existing Business</th>\n",
       "      <th>New Business</th>\n",
       "    </tr>\n",
       "    <tr>\n",
       "      <th>Order Result</th>\n",
       "      <th></th>\n",
       "      <th></th>\n",
       "    </tr>\n",
       "  </thead>\n",
       "  <tbody>\n",
       "    <tr>\n",
       "      <th>Lost order</th>\n",
       "      <td>44</td>\n",
       "      <td>58</td>\n",
       "    </tr>\n",
       "    <tr>\n",
       "      <th>Won order</th>\n",
       "      <td>25</td>\n",
       "      <td>7</td>\n",
       "    </tr>\n",
       "  </tbody>\n",
       "</table>\n",
       "</div>"
      ],
      "text/plain": [
       "Business Type  Existing Business  New Business\n",
       "Order Result                                  \n",
       "Lost order                    44            58\n",
       "Won order                     25             7"
      ]
     },
     "execution_count": 7,
     "metadata": {},
     "output_type": "execute_result"
    }
   ],
   "source": [
    "df_results[['Order Result','Business Type']].groupby([\"Order Result\", 'Business Type'])['Order Result'].count().unstack('Business Type')"
   ]
  },
  {
   "cell_type": "code",
   "execution_count": 8,
   "metadata": {},
   "outputs": [],
   "source": [
    "df_type = df_results[['Order Result','Business Type']].groupby([\"Order Result\", 'Business Type'])['Order Result'].count().unstack('Business Type')"
   ]
  },
  {
   "cell_type": "code",
   "execution_count": 9,
   "metadata": {},
   "outputs": [
    {
     "data": {
      "text/plain": [
       "Text(0,0.5,'Number of Orders')"
      ]
     },
     "execution_count": 9,
     "metadata": {},
     "output_type": "execute_result"
    },
    {
     "data": {
      "image/png": "[encoded data removed]",
      "text/plain": [
       "<Figure size 720x720 with 1 Axes>"
      ]
     },
     "metadata": {},
     "output_type": "display_data"
    }
   ],
   "source": [
    "df_type.plot(kind = 'bar', stacked = True, figsize=(10, 10),colormap='tab20')\n",
    "plt.ylabel('Number of Orders')"
   ]
  },
  {
   "cell_type": "code",
   "execution_count": 10,
   "metadata": {},
   "outputs": [],
   "source": [
    "df_type1 = df_results[['Order Result','Business Type']].groupby([\"Order Result\", 'Business Type'])['Order Result'].count().unstack('Order Result')"
   ]
  },
  {
   "cell_type": "code",
   "execution_count": 11,
   "metadata": {},
   "outputs": [
    {
     "data": {
      "text/plain": [
       "Text(0,0.5,'Number of Orders')"
      ]
     },
     "execution_count": 11,
     "metadata": {},
     "output_type": "execute_result"
    },
    {
     "data": {
      "image/png": "[encoded data removed]",
      "text/plain": [
       "<Figure size 720x720 with 1 Axes>"
      ]
     },
     "metadata": {},
     "output_type": "display_data"
    }
   ],
   "source": [
    "df_type1.plot(kind = 'bar', stacked = True, figsize=(10, 10),colormap='tab20')\n",
    "plt.ylabel('Number of Orders')"
   ]
  },
  {
   "cell_type": "markdown",
   "metadata": {},
   "source": [
    "### Spread of wins and losses by lead source"
   ]
  },
  {
   "cell_type": "code",
   "execution_count": 12,
   "metadata": {},
   "outputs": [
    {
     "data": {
      "text/html": [
       "<div>\n",
       "<style scoped>\n",
       "    .dataframe tbody tr th:only-of-type {\n",
       "        vertical-align: middle;\n",
       "    }\n",
       "\n",
       "    .dataframe tbody tr th {\n",
       "        vertical-align: top;\n",
       "    }\n",
       "\n",
       "    .dataframe thead th {\n",
       "        text-align: right;\n",
       "    }\n",
       "</style>\n",
       "<table border=\"1\" class=\"dataframe\">\n",
       "  <thead>\n",
       "    <tr style=\"text-align: right;\">\n",
       "      <th>Lead Source</th>\n",
       "      <th>Email</th>\n",
       "      <th>In person meeting</th>\n",
       "      <th>Phone</th>\n",
       "      <th>Website</th>\n",
       "    </tr>\n",
       "    <tr>\n",
       "      <th>Order Result</th>\n",
       "      <th></th>\n",
       "      <th></th>\n",
       "      <th></th>\n",
       "      <th></th>\n",
       "    </tr>\n",
       "  </thead>\n",
       "  <tbody>\n",
       "    <tr>\n",
       "      <th>Lost order</th>\n",
       "      <td>49</td>\n",
       "      <td>5</td>\n",
       "      <td>29</td>\n",
       "      <td>20</td>\n",
       "    </tr>\n",
       "    <tr>\n",
       "      <th>Won order</th>\n",
       "      <td>15</td>\n",
       "      <td>3</td>\n",
       "      <td>12</td>\n",
       "      <td>3</td>\n",
       "    </tr>\n",
       "  </tbody>\n",
       "</table>\n",
       "</div>"
      ],
      "text/plain": [
       "Lead Source   Email  In person meeting  Phone  Website\n",
       "Order Result                                          \n",
       "Lost order       49                  5     29       20\n",
       "Won order        15                  3     12        3"
      ]
     },
     "execution_count": 12,
     "metadata": {},
     "output_type": "execute_result"
    }
   ],
   "source": [
    "df_results[['Order Result','Lead Source']].groupby([\"Order Result\", 'Lead Source'])['Order Result'].count().unstack('Lead Source')"
   ]
  },
  {
   "cell_type": "code",
   "execution_count": 13,
   "metadata": {},
   "outputs": [],
   "source": [
    "df_lead = df_results[['Order Result','Lead Source']].groupby([\"Order Result\", 'Lead Source'])['Order Result'].count().unstack('Lead Source')"
   ]
  },
  {
   "cell_type": "code",
   "execution_count": 14,
   "metadata": {},
   "outputs": [
    {
     "data": {
      "text/plain": [
       "Text(0,0.5,'Number of Orders')"
      ]
     },
     "execution_count": 14,
     "metadata": {},
     "output_type": "execute_result"
    },
    {
     "data": {
      "image/png": "[encoded data removed]",
      "text/plain": [
       "<Figure size 720x720 with 1 Axes>"
      ]
     },
     "metadata": {},
     "output_type": "display_data"
    }
   ],
   "source": [
    "df_lead.plot(kind = 'bar', stacked = True, figsize=(10, 10),colormap='tab10')\n",
    "plt.ylabel('Number of Orders')"
   ]
  },
  {
   "cell_type": "code",
   "execution_count": 15,
   "metadata": {},
   "outputs": [],
   "source": [
    "df_lead1 = df_results[['Order Result','Lead Source']].groupby([\"Order Result\", 'Lead Source'])['Order Result'].count().unstack('Order Result')"
   ]
  },
  {
   "cell_type": "code",
   "execution_count": 16,
   "metadata": {},
   "outputs": [
    {
     "data": {
      "text/plain": [
       "Text(0,0.5,'Number of Orders')"
      ]
     },
     "execution_count": 16,
     "metadata": {},
     "output_type": "execute_result"
    },
    {
     "data": {
      "image/png": "[encoded data removed]",
      "text/plain": [
       "<Figure size 720x720 with 1 Axes>"
      ]
     },
     "metadata": {},
     "output_type": "display_data"
    }
   ],
   "source": [
    "df_lead1.plot(kind = 'bar', stacked = True, figsize=(10, 10),colormap='tab10')\n",
    "plt.ylabel('Number of Orders')"
   ]
  },
  {
   "cell_type": "markdown",
   "metadata": {},
   "source": [
    "### Distribution of Loss Reason"
   ]
  },
  {
   "cell_type": "code",
   "execution_count": 18,
   "metadata": {},
   "outputs": [
    {
     "data": {
      "text/plain": [
       "Text(0.5,1,'Order Loss Reason')"
      ]
     },
     "execution_count": 18,
     "metadata": {},
     "output_type": "execute_result"
    },
    {
     "data": {
      "image/png": "[encoded data removed]",
      "text/plain": [
       "<Figure size 576x576 with 1 Axes>"
      ]
     },
     "metadata": {},
     "output_type": "display_data"
    }
   ],
   "source": [
    "df_results['Loss Reason'].value_counts().plot(kind = 'pie', figsize=(8, 8), autopct='%1.0f%%')\n",
    "my_circle=plt.Circle( (0,0), 0.7, color='white')\n",
    "p=plt.gcf()\n",
    "p.gca().add_artist(my_circle)\n",
    "plt.title('Order Loss Reason')"
   ]
  },
  {
   "cell_type": "markdown",
   "metadata": {},
   "source": [
    "### Order losses over time "
   ]
  },
  {
   "cell_type": "code",
   "execution_count": 19,
   "metadata": {},
   "outputs": [
    {
     "name": "stderr",
     "output_type": "stream",
     "text": [
      "C:\\Users\\huzmu\\Anaconda3\\lib\\site-packages\\ipykernel_launcher.py:2: SettingWithCopyWarning: \n",
      "A value is trying to be set on a copy of a slice from a DataFrame.\n",
      "Try using .loc[row_indexer,col_indexer] = value instead\n",
      "\n",
      "See the caveats in the documentation: http://pandas.pydata.org/pandas-docs/stable/indexing.html#indexing-view-versus-copy\n",
      "  \n"
     ]
    }
   ],
   "source": [
    "df_2019 = df_results[(df_results['Close Date'].dt.year == 2019)]# df1 should only contain rows where the year is 2019\n",
    "df_2019['month'] = df_2019['Close Date'].dt.month.sort_values()"
   ]
  },
  {
   "cell_type": "code",
   "execution_count": 20,
   "metadata": {},
   "outputs": [
    {
     "name": "stderr",
     "output_type": "stream",
     "text": [
      "C:\\Users\\huzmu\\Anaconda3\\lib\\site-packages\\ipykernel_launcher.py:1: SettingWithCopyWarning: \n",
      "A value is trying to be set on a copy of a slice from a DataFrame\n",
      "\n",
      "See the caveats in the documentation: http://pandas.pydata.org/pandas-docs/stable/indexing.html#indexing-view-versus-copy\n",
      "  \"\"\"Entry point for launching an IPython kernel.\n"
     ]
    }
   ],
   "source": [
    "df_2019.sort_values(by='month', inplace = True)"
   ]
  },
  {
   "cell_type": "code",
   "execution_count": 21,
   "metadata": {},
   "outputs": [
    {
     "data": {
      "text/html": [
       "<div>\n",
       "<style scoped>\n",
       "    .dataframe tbody tr th:only-of-type {\n",
       "        vertical-align: middle;\n",
       "    }\n",
       "\n",
       "    .dataframe tbody tr th {\n",
       "        vertical-align: top;\n",
       "    }\n",
       "\n",
       "    .dataframe thead th {\n",
       "        text-align: right;\n",
       "    }\n",
       "</style>\n",
       "<table border=\"1\" class=\"dataframe\">\n",
       "  <thead>\n",
       "    <tr style=\"text-align: right;\">\n",
       "      <th></th>\n",
       "      <th>Order Result</th>\n",
       "      <th>Business Type</th>\n",
       "      <th>Lead Source</th>\n",
       "      <th>Loss Reason</th>\n",
       "      <th>Close Date</th>\n",
       "      <th>month</th>\n",
       "    </tr>\n",
       "  </thead>\n",
       "  <tbody>\n",
       "    <tr>\n",
       "      <th>78</th>\n",
       "      <td>Lost order</td>\n",
       "      <td>NaN</td>\n",
       "      <td>NaN</td>\n",
       "      <td>Price</td>\n",
       "      <td>2019-01-03</td>\n",
       "      <td>1</td>\n",
       "    </tr>\n",
       "    <tr>\n",
       "      <th>33</th>\n",
       "      <td>Lost order</td>\n",
       "      <td>NaN</td>\n",
       "      <td>NaN</td>\n",
       "      <td>NaN</td>\n",
       "      <td>2019-01-05</td>\n",
       "      <td>1</td>\n",
       "    </tr>\n",
       "    <tr>\n",
       "      <th>68</th>\n",
       "      <td>Lost order</td>\n",
       "      <td>NaN</td>\n",
       "      <td>NaN</td>\n",
       "      <td>NaN</td>\n",
       "      <td>2019-01-23</td>\n",
       "      <td>1</td>\n",
       "    </tr>\n",
       "    <tr>\n",
       "      <th>175</th>\n",
       "      <td>Lost order</td>\n",
       "      <td>NaN</td>\n",
       "      <td>NaN</td>\n",
       "      <td>NaN</td>\n",
       "      <td>2019-01-05</td>\n",
       "      <td>1</td>\n",
       "    </tr>\n",
       "    <tr>\n",
       "      <th>176</th>\n",
       "      <td>Lost order</td>\n",
       "      <td>NaN</td>\n",
       "      <td>NaN</td>\n",
       "      <td>NaN</td>\n",
       "      <td>2019-01-05</td>\n",
       "      <td>1</td>\n",
       "    </tr>\n",
       "  </tbody>\n",
       "</table>\n",
       "</div>"
      ],
      "text/plain": [
       "    Order Result Business Type Lead Source Loss Reason Close Date  month\n",
       "78    Lost order           NaN         NaN       Price 2019-01-03      1\n",
       "33    Lost order           NaN         NaN         NaN 2019-01-05      1\n",
       "68    Lost order           NaN         NaN         NaN 2019-01-23      1\n",
       "175   Lost order           NaN         NaN         NaN 2019-01-05      1\n",
       "176   Lost order           NaN         NaN         NaN 2019-01-05      1"
      ]
     },
     "execution_count": 21,
     "metadata": {},
     "output_type": "execute_result"
    }
   ],
   "source": [
    "df_2019.head()"
   ]
  },
  {
   "cell_type": "code",
   "execution_count": 22,
   "metadata": {},
   "outputs": [
    {
     "data": {
      "text/plain": [
       "Lost order    175\n",
       "Won order      47\n",
       "Name: Order Result, dtype: int64"
      ]
     },
     "execution_count": 22,
     "metadata": {},
     "output_type": "execute_result"
    }
   ],
   "source": [
    "df_2019['Order Result'].value_counts()"
   ]
  },
  {
   "cell_type": "code",
   "execution_count": 23,
   "metadata": {},
   "outputs": [],
   "source": [
    "df_2019_losses = df_2019[(df_2019['Order Result'] == 'Lost order')]"
   ]
  },
  {
   "cell_type": "code",
   "execution_count": 24,
   "metadata": {},
   "outputs": [
    {
     "data": {
      "text/html": [
       "<div>\n",
       "<style scoped>\n",
       "    .dataframe tbody tr th:only-of-type {\n",
       "        vertical-align: middle;\n",
       "    }\n",
       "\n",
       "    .dataframe tbody tr th {\n",
       "        vertical-align: top;\n",
       "    }\n",
       "\n",
       "    .dataframe thead th {\n",
       "        text-align: right;\n",
       "    }\n",
       "</style>\n",
       "<table border=\"1\" class=\"dataframe\">\n",
       "  <thead>\n",
       "    <tr style=\"text-align: right;\">\n",
       "      <th></th>\n",
       "      <th>Order Result</th>\n",
       "      <th>Business Type</th>\n",
       "      <th>Lead Source</th>\n",
       "      <th>Loss Reason</th>\n",
       "      <th>Close Date</th>\n",
       "      <th>month</th>\n",
       "    </tr>\n",
       "  </thead>\n",
       "  <tbody>\n",
       "    <tr>\n",
       "      <th>78</th>\n",
       "      <td>Lost order</td>\n",
       "      <td>NaN</td>\n",
       "      <td>NaN</td>\n",
       "      <td>Price</td>\n",
       "      <td>2019-01-03</td>\n",
       "      <td>1</td>\n",
       "    </tr>\n",
       "    <tr>\n",
       "      <th>33</th>\n",
       "      <td>Lost order</td>\n",
       "      <td>NaN</td>\n",
       "      <td>NaN</td>\n",
       "      <td>NaN</td>\n",
       "      <td>2019-01-05</td>\n",
       "      <td>1</td>\n",
       "    </tr>\n",
       "    <tr>\n",
       "      <th>68</th>\n",
       "      <td>Lost order</td>\n",
       "      <td>NaN</td>\n",
       "      <td>NaN</td>\n",
       "      <td>NaN</td>\n",
       "      <td>2019-01-23</td>\n",
       "      <td>1</td>\n",
       "    </tr>\n",
       "    <tr>\n",
       "      <th>175</th>\n",
       "      <td>Lost order</td>\n",
       "      <td>NaN</td>\n",
       "      <td>NaN</td>\n",
       "      <td>NaN</td>\n",
       "      <td>2019-01-05</td>\n",
       "      <td>1</td>\n",
       "    </tr>\n",
       "    <tr>\n",
       "      <th>176</th>\n",
       "      <td>Lost order</td>\n",
       "      <td>NaN</td>\n",
       "      <td>NaN</td>\n",
       "      <td>NaN</td>\n",
       "      <td>2019-01-05</td>\n",
       "      <td>1</td>\n",
       "    </tr>\n",
       "  </tbody>\n",
       "</table>\n",
       "</div>"
      ],
      "text/plain": [
       "    Order Result Business Type Lead Source Loss Reason Close Date  month\n",
       "78    Lost order           NaN         NaN       Price 2019-01-03      1\n",
       "33    Lost order           NaN         NaN         NaN 2019-01-05      1\n",
       "68    Lost order           NaN         NaN         NaN 2019-01-23      1\n",
       "175   Lost order           NaN         NaN         NaN 2019-01-05      1\n",
       "176   Lost order           NaN         NaN         NaN 2019-01-05      1"
      ]
     },
     "execution_count": 24,
     "metadata": {},
     "output_type": "execute_result"
    }
   ],
   "source": [
    "df_2019_losses.head()"
   ]
  },
  {
   "cell_type": "code",
   "execution_count": 25,
   "metadata": {},
   "outputs": [],
   "source": [
    "df_2019_wins = df_2019[(df_2019['Order Result'] == 'Won order')]"
   ]
  },
  {
   "cell_type": "code",
   "execution_count": 26,
   "metadata": {},
   "outputs": [
    {
     "data": {
      "text/plain": [
       "<matplotlib.legend.Legend at 0x28b1a45dbe0>"
      ]
     },
     "execution_count": 26,
     "metadata": {},
     "output_type": "execute_result"
    },
    {
     "data": {
      "image/png": "[encoded data removed]",
      "text/plain": [
       "<Figure size 720x720 with 1 Axes>"
      ]
     },
     "metadata": {},
     "output_type": "display_data"
    }
   ],
   "source": [
    "df_2019_wins['month'].value_counts().sort_index().plot(kind='line', figsize=(10,10), label='wins')\n",
    "df_2019_losses['month'].value_counts().sort_index().plot(kind='line', figsize=(10,10), label='losses')\n",
    "plt.xlabel('Month in 2019')\n",
    "plt.ylabel('Number of Orders')\n",
    "plt.legend()"
   ]
  },
  {
   "cell_type": "code",
   "execution_count": 27,
   "metadata": {},
   "outputs": [],
   "source": [
    "#####"
   ]
  },
  {
   "cell_type": "code",
   "execution_count": 28,
   "metadata": {},
   "outputs": [
    {
     "data": {
      "text/html": [
       "<div>\n",
       "<style scoped>\n",
       "    .dataframe tbody tr th:only-of-type {\n",
       "        vertical-align: middle;\n",
       "    }\n",
       "\n",
       "    .dataframe tbody tr th {\n",
       "        vertical-align: top;\n",
       "    }\n",
       "\n",
       "    .dataframe thead th {\n",
       "        text-align: right;\n",
       "    }\n",
       "</style>\n",
       "<table border=\"1\" class=\"dataframe\">\n",
       "  <thead>\n",
       "    <tr style=\"text-align: right;\">\n",
       "      <th></th>\n",
       "      <th>Client Name</th>\n",
       "      <th>Order Result</th>\n",
       "      <th>Amount</th>\n",
       "      <th>Close Date</th>\n",
       "      <th>Business Type</th>\n",
       "      <th>Lead Source</th>\n",
       "      <th>Created Date</th>\n",
       "      <th>Loss Reason</th>\n",
       "      <th>Project Name</th>\n",
       "      <th>Project Location</th>\n",
       "    </tr>\n",
       "  </thead>\n",
       "  <tbody>\n",
       "    <tr>\n",
       "      <th>0</th>\n",
       "      <td>Client 1</td>\n",
       "      <td>Lost order</td>\n",
       "      <td>5616.0</td>\n",
       "      <td>2019-04-22</td>\n",
       "      <td>New Business</td>\n",
       "      <td>Phone</td>\n",
       "      <td>2019-04-30 08:49:52</td>\n",
       "      <td>Price</td>\n",
       "      <td>Project 1</td>\n",
       "      <td>Abu Dhabi Region</td>\n",
       "    </tr>\n",
       "    <tr>\n",
       "      <th>1</th>\n",
       "      <td>Client 2</td>\n",
       "      <td>Lost order</td>\n",
       "      <td>1840.0</td>\n",
       "      <td>2019-01-29</td>\n",
       "      <td>NaN</td>\n",
       "      <td>NaN</td>\n",
       "      <td>2019-04-27 07:43:51</td>\n",
       "      <td>NaN</td>\n",
       "      <td>Project 2</td>\n",
       "      <td>Abu Dhabi</td>\n",
       "    </tr>\n",
       "    <tr>\n",
       "      <th>2</th>\n",
       "      <td>Client 3</td>\n",
       "      <td>Lost order</td>\n",
       "      <td>0.0</td>\n",
       "      <td>2019-01-21</td>\n",
       "      <td>NaN</td>\n",
       "      <td>NaN</td>\n",
       "      <td>2019-04-27 07:16:53</td>\n",
       "      <td>NaN</td>\n",
       "      <td>Project 3</td>\n",
       "      <td>Abu Dhabi</td>\n",
       "    </tr>\n",
       "    <tr>\n",
       "      <th>3</th>\n",
       "      <td>Client 4</td>\n",
       "      <td>Lost order</td>\n",
       "      <td>37370.0</td>\n",
       "      <td>2019-04-13</td>\n",
       "      <td>New Business</td>\n",
       "      <td>Phone</td>\n",
       "      <td>2019-04-29 13:46:46</td>\n",
       "      <td>No Decision / Non-Responsive</td>\n",
       "      <td>Project 4</td>\n",
       "      <td>Abu Dhabi</td>\n",
       "    </tr>\n",
       "    <tr>\n",
       "      <th>4</th>\n",
       "      <td>Client 5</td>\n",
       "      <td>Lost order</td>\n",
       "      <td>4720.0</td>\n",
       "      <td>2019-04-13</td>\n",
       "      <td>New Business</td>\n",
       "      <td>Phone</td>\n",
       "      <td>2019-04-29 12:33:56</td>\n",
       "      <td>Other</td>\n",
       "      <td>Project 5</td>\n",
       "      <td>Abu Dhabi</td>\n",
       "    </tr>\n",
       "  </tbody>\n",
       "</table>\n",
       "</div>"
      ],
      "text/plain": [
       "  Client Name Order Result   Amount Close Date Business Type Lead Source  \\\n",
       "0    Client 1   Lost order   5616.0 2019-04-22  New Business       Phone   \n",
       "1    Client 2   Lost order   1840.0 2019-01-29           NaN         NaN   \n",
       "2    Client 3   Lost order      0.0 2019-01-21           NaN         NaN   \n",
       "3    Client 4   Lost order  37370.0 2019-04-13  New Business       Phone   \n",
       "4    Client 5   Lost order   4720.0 2019-04-13  New Business       Phone   \n",
       "\n",
       "         Created Date                   Loss Reason Project Name  \\\n",
       "0 2019-04-30 08:49:52                         Price    Project 1   \n",
       "1 2019-04-27 07:43:51                           NaN    Project 2   \n",
       "2 2019-04-27 07:16:53                           NaN    Project 3   \n",
       "3 2019-04-29 13:46:46  No Decision / Non-Responsive    Project 4   \n",
       "4 2019-04-29 12:33:56                         Other    Project 5   \n",
       "\n",
       "   Project Location  \n",
       "0  Abu Dhabi Region  \n",
       "1         Abu Dhabi  \n",
       "2         Abu Dhabi  \n",
       "3         Abu Dhabi  \n",
       "4         Abu Dhabi  "
      ]
     },
     "execution_count": 28,
     "metadata": {},
     "output_type": "execute_result"
    }
   ],
   "source": [
    "df.head()"
   ]
  },
  {
   "cell_type": "code",
   "execution_count": 29,
   "metadata": {},
   "outputs": [],
   "source": [
    "dfx = pd.DataFrame(df, columns = ['Amount', 'Order Result', 'Close Date'])"
   ]
  },
  {
   "cell_type": "code",
   "execution_count": 30,
   "metadata": {},
   "outputs": [
    {
     "data": {
      "text/html": [
       "<div>\n",
       "<style scoped>\n",
       "    .dataframe tbody tr th:only-of-type {\n",
       "        vertical-align: middle;\n",
       "    }\n",
       "\n",
       "    .dataframe tbody tr th {\n",
       "        vertical-align: top;\n",
       "    }\n",
       "\n",
       "    .dataframe thead th {\n",
       "        text-align: right;\n",
       "    }\n",
       "</style>\n",
       "<table border=\"1\" class=\"dataframe\">\n",
       "  <thead>\n",
       "    <tr style=\"text-align: right;\">\n",
       "      <th></th>\n",
       "      <th>Amount</th>\n",
       "      <th>Order Result</th>\n",
       "      <th>Close Date</th>\n",
       "    </tr>\n",
       "  </thead>\n",
       "  <tbody>\n",
       "    <tr>\n",
       "      <th>0</th>\n",
       "      <td>5616.0</td>\n",
       "      <td>Lost order</td>\n",
       "      <td>2019-04-22</td>\n",
       "    </tr>\n",
       "    <tr>\n",
       "      <th>1</th>\n",
       "      <td>1840.0</td>\n",
       "      <td>Lost order</td>\n",
       "      <td>2019-01-29</td>\n",
       "    </tr>\n",
       "    <tr>\n",
       "      <th>2</th>\n",
       "      <td>0.0</td>\n",
       "      <td>Lost order</td>\n",
       "      <td>2019-01-21</td>\n",
       "    </tr>\n",
       "    <tr>\n",
       "      <th>3</th>\n",
       "      <td>37370.0</td>\n",
       "      <td>Lost order</td>\n",
       "      <td>2019-04-13</td>\n",
       "    </tr>\n",
       "    <tr>\n",
       "      <th>4</th>\n",
       "      <td>4720.0</td>\n",
       "      <td>Lost order</td>\n",
       "      <td>2019-04-13</td>\n",
       "    </tr>\n",
       "  </tbody>\n",
       "</table>\n",
       "</div>"
      ],
      "text/plain": [
       "    Amount Order Result Close Date\n",
       "0   5616.0   Lost order 2019-04-22\n",
       "1   1840.0   Lost order 2019-01-29\n",
       "2      0.0   Lost order 2019-01-21\n",
       "3  37370.0   Lost order 2019-04-13\n",
       "4   4720.0   Lost order 2019-04-13"
      ]
     },
     "execution_count": 30,
     "metadata": {},
     "output_type": "execute_result"
    }
   ],
   "source": [
    "dfx.head()"
   ]
  },
  {
   "cell_type": "code",
   "execution_count": 31,
   "metadata": {},
   "outputs": [],
   "source": [
    "dfx_wins = dfx[(dfx['Order Result']=='Won order')]\n",
    "dfx_loss = dfx[(dfx['Order Result']=='Lost order')]"
   ]
  },
  {
   "cell_type": "code",
   "execution_count": 32,
   "metadata": {},
   "outputs": [],
   "source": [
    "dfx_wins = dfx_wins[(dfx_wins['Close Date'].dt.year==2019)]\n",
    "dfx_loss = dfx_loss[(dfx_loss['Close Date'].dt.year==2019)]"
   ]
  },
  {
   "cell_type": "code",
   "execution_count": 33,
   "metadata": {},
   "outputs": [],
   "source": [
    "dfx_wins['month'] = dfx['Close Date'].dt.month\n",
    "dfx_loss['month'] = dfx['Close Date'].dt.month"
   ]
  },
  {
   "cell_type": "code",
   "execution_count": 34,
   "metadata": {},
   "outputs": [],
   "source": [
    "dfx_wins.drop(['Order Result', 'Close Date'], axis=1, inplace=True)\n",
    "dfx_wins.rename(columns={'Amount':'Won Amount'}, inplace =True)\n",
    "\n",
    "dfx_loss.drop(['Order Result', 'Close Date'], axis=1, inplace=True)\n",
    "dfx_loss.rename(columns={'Amount':'Lost Amount'}, inplace=True)"
   ]
  },
  {
   "cell_type": "code",
   "execution_count": 35,
   "metadata": {},
   "outputs": [],
   "source": [
    "dfx_wins_group = dfx_wins.groupby(['month']).sum()\n",
    "dfx_loss_group = dfx_loss.groupby(['month']).sum()"
   ]
  },
  {
   "cell_type": "code",
   "execution_count": 36,
   "metadata": {},
   "outputs": [
    {
     "data": {
      "text/plain": [
       "<matplotlib.axes._subplots.AxesSubplot at 0x28b1bea0940>"
      ]
     },
     "execution_count": 36,
     "metadata": {},
     "output_type": "execute_result"
    },
    {
     "data": {
      "image/png": "[encoded data removed]",
      "text/plain": [
       "<Figure size 432x288 with 1 Axes>"
      ]
     },
     "metadata": {},
     "output_type": "display_data"
    },
    {
     "data": {
      "image/png": "[encoded data removed]",
      "text/plain": [
       "<Figure size 432x288 with 1 Axes>"
      ]
     },
     "metadata": {},
     "output_type": "display_data"
    }
   ],
   "source": [
    "dfx_wins_group.plot(kind='line', color='green')\n",
    "dfx_loss_group.plot(kind='line', color='red')"
   ]
  },
  {
   "cell_type": "code",
   "execution_count": null,
   "metadata": {},
   "outputs": [],
   "source": [
    "######"
   ]
  },
  {
   "cell_type": "markdown",
   "metadata": {},
   "source": [
    "Dashboard plot below"
   ]
  },
  {
   "cell_type": "code",
   "execution_count": null,
   "metadata": {},
   "outputs": [],
   "source": [
    "df_2019_wins['month'].value_counts().sort_index().plot(kind='line', label='wins')\n",
    "plt.xlabel('Month')\n",
    "plt.title('2019 Monthly Orders')"
   ]
  },
  {
   "cell_type": "code",
   "execution_count": null,
   "metadata": {},
   "outputs": [],
   "source": [
    "df_2019_wins.info()"
   ]
  },
  {
   "cell_type": "code",
   "execution_count": null,
   "metadata": {},
   "outputs": [],
   "source": [
    "df_2019_wins"
   ]
  },
  {
   "cell_type": "code",
   "execution_count": null,
   "metadata": {},
   "outputs": [],
   "source": [
    "df_2019_grouped=df_2019_wins.drop(columns=['Business Type', 'Lead Source', 'Loss Reason', 'Close Date']).groupby(['month']).count()"
   ]
  },
  {
   "cell_type": "code",
   "execution_count": null,
   "metadata": {},
   "outputs": [],
   "source": [
    "df_2019_grouped"
   ]
  },
  {
   "cell_type": "code",
   "execution_count": null,
   "metadata": {},
   "outputs": [],
   "source": []
  }
 ],
 "metadata": {
  "kernelspec": {
   "display_name": "Python 3",
   "language": "python",
   "name": "python3"
  },
  "language_info": {
   "codemirror_mode": {
    "name": "ipython",
    "version": 3
   },
   "file_extension": ".py",
   "mimetype": "text/x-python",
   "name": "python",
   "nbconvert_exporter": "python",
   "pygments_lexer": "ipython3",
   "version": "3.6.5"
  }
 },
 "nbformat": 4,
 "nbformat_minor": 2
}
