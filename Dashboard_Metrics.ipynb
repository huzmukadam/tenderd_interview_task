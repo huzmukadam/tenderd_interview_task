{
 "cells": [
  {
   "cell_type": "code",
   "execution_count": 1,
   "metadata": {},
   "outputs": [],
   "source": [
    "import pickle\n",
    "import pandas as pd\n",
    "import matplotlib.pyplot as plt\n",
    "import seaborn as sns\n",
    "plt.style.use('ggplot')  # sets up pretty plots\n",
    "%matplotlib inline"
   ]
  },
  {
   "cell_type": "code",
   "execution_count": 2,
   "metadata": {},
   "outputs": [],
   "source": [
    "df = pd.read_pickle('clean_dummy_data.pkl')"
   ]
  },
  {
   "cell_type": "code",
   "execution_count": 3,
   "metadata": {},
   "outputs": [
    {
     "data": {
      "text/html": [
       "<div>\n",
       "<style scoped>\n",
       "    .dataframe tbody tr th:only-of-type {\n",
       "        vertical-align: middle;\n",
       "    }\n",
       "\n",
       "    .dataframe tbody tr th {\n",
       "        vertical-align: top;\n",
       "    }\n",
       "\n",
       "    .dataframe thead th {\n",
       "        text-align: right;\n",
       "    }\n",
       "</style>\n",
       "<table border=\"1\" class=\"dataframe\">\n",
       "  <thead>\n",
       "    <tr style=\"text-align: right;\">\n",
       "      <th></th>\n",
       "      <th>Client Name</th>\n",
       "      <th>Order Result</th>\n",
       "      <th>Amount</th>\n",
       "      <th>Close Date</th>\n",
       "      <th>Business Type</th>\n",
       "      <th>Lead Source</th>\n",
       "      <th>Created Date</th>\n",
       "      <th>Loss Reason</th>\n",
       "      <th>Project Name</th>\n",
       "      <th>Project Location</th>\n",
       "    </tr>\n",
       "  </thead>\n",
       "  <tbody>\n",
       "    <tr>\n",
       "      <th>0</th>\n",
       "      <td>Client 1</td>\n",
       "      <td>Lost order</td>\n",
       "      <td>5616.0</td>\n",
       "      <td>2019-04-22</td>\n",
       "      <td>New Business</td>\n",
       "      <td>Phone</td>\n",
       "      <td>2019-04-30 08:49:52</td>\n",
       "      <td>Price</td>\n",
       "      <td>Project 1</td>\n",
       "      <td>Abu Dhabi Region</td>\n",
       "    </tr>\n",
       "    <tr>\n",
       "      <th>1</th>\n",
       "      <td>Client 2</td>\n",
       "      <td>Lost order</td>\n",
       "      <td>1840.0</td>\n",
       "      <td>2019-01-29</td>\n",
       "      <td>NaN</td>\n",
       "      <td>NaN</td>\n",
       "      <td>2019-04-27 07:43:51</td>\n",
       "      <td>NaN</td>\n",
       "      <td>Project 2</td>\n",
       "      <td>Abu Dhabi</td>\n",
       "    </tr>\n",
       "    <tr>\n",
       "      <th>2</th>\n",
       "      <td>Client 3</td>\n",
       "      <td>Lost order</td>\n",
       "      <td>0.0</td>\n",
       "      <td>2019-01-21</td>\n",
       "      <td>NaN</td>\n",
       "      <td>NaN</td>\n",
       "      <td>2019-04-27 07:16:53</td>\n",
       "      <td>NaN</td>\n",
       "      <td>Project 3</td>\n",
       "      <td>Abu Dhabi</td>\n",
       "    </tr>\n",
       "    <tr>\n",
       "      <th>3</th>\n",
       "      <td>Client 4</td>\n",
       "      <td>Lost order</td>\n",
       "      <td>37370.0</td>\n",
       "      <td>2019-04-13</td>\n",
       "      <td>New Business</td>\n",
       "      <td>Phone</td>\n",
       "      <td>2019-04-29 13:46:46</td>\n",
       "      <td>No Decision / Non-Responsive</td>\n",
       "      <td>Project 4</td>\n",
       "      <td>Abu Dhabi</td>\n",
       "    </tr>\n",
       "    <tr>\n",
       "      <th>4</th>\n",
       "      <td>Client 5</td>\n",
       "      <td>Lost order</td>\n",
       "      <td>4720.0</td>\n",
       "      <td>2019-04-13</td>\n",
       "      <td>New Business</td>\n",
       "      <td>Phone</td>\n",
       "      <td>2019-04-29 12:33:56</td>\n",
       "      <td>Other</td>\n",
       "      <td>Project 5</td>\n",
       "      <td>Abu Dhabi</td>\n",
       "    </tr>\n",
       "  </tbody>\n",
       "</table>\n",
       "</div>"
      ],
      "text/plain": [
       "  Client Name Order Result   Amount Close Date Business Type Lead Source  \\\n",
       "0    Client 1   Lost order   5616.0 2019-04-22  New Business       Phone   \n",
       "1    Client 2   Lost order   1840.0 2019-01-29           NaN         NaN   \n",
       "2    Client 3   Lost order      0.0 2019-01-21           NaN         NaN   \n",
       "3    Client 4   Lost order  37370.0 2019-04-13  New Business       Phone   \n",
       "4    Client 5   Lost order   4720.0 2019-04-13  New Business       Phone   \n",
       "\n",
       "         Created Date                   Loss Reason Project Name  \\\n",
       "0 2019-04-30 08:49:52                         Price    Project 1   \n",
       "1 2019-04-27 07:43:51                           NaN    Project 2   \n",
       "2 2019-04-27 07:16:53                           NaN    Project 3   \n",
       "3 2019-04-29 13:46:46  No Decision / Non-Responsive    Project 4   \n",
       "4 2019-04-29 12:33:56                         Other    Project 5   \n",
       "\n",
       "   Project Location  \n",
       "0  Abu Dhabi Region  \n",
       "1         Abu Dhabi  \n",
       "2         Abu Dhabi  \n",
       "3         Abu Dhabi  \n",
       "4         Abu Dhabi  "
      ]
     },
     "execution_count": 3,
     "metadata": {},
     "output_type": "execute_result"
    }
   ],
   "source": [
    "df.head()"
   ]
  },
  {
   "cell_type": "markdown",
   "metadata": {},
   "source": [
    "# Money"
   ]
  },
  {
   "cell_type": "markdown",
   "metadata": {},
   "source": [
    "### Amount Earned Last Month"
   ]
  },
  {
   "cell_type": "code",
   "execution_count": 4,
   "metadata": {},
   "outputs": [],
   "source": [
    "df1 = pd.DataFrame(df, columns=['Amount', 'Order Result', 'Close Date'])\n",
    "df1 = df1[(df1['Order Result']=='Won order')] # df1 should have only ros where the order was won\n",
    "df1 = df1[(df1['Close Date'].dt.year == 2019)] # df1 should only contain rows where the year is 2019\n",
    "df1 = df1[(df1['Close Date'].dt.month == 6)] # df1 should only contain rows where the month is June"
   ]
  },
  {
   "cell_type": "code",
   "execution_count": 5,
   "metadata": {},
   "outputs": [
    {
     "name": "stdout",
     "output_type": "stream",
     "text": [
      "     Amount Order Result Close Date\n",
      "105   390.0    Won order 2019-06-15\n",
      "242   204.0    Won order 2019-06-02\n",
      "243   324.0    Won order 2019-06-13\n"
     ]
    }
   ],
   "source": [
    "print(df1)"
   ]
  },
  {
   "cell_type": "code",
   "execution_count": 6,
   "metadata": {},
   "outputs": [],
   "source": [
    "last_month_total =  df1['Amount'].sum()"
   ]
  },
  {
   "cell_type": "code",
   "execution_count": 7,
   "metadata": {},
   "outputs": [
    {
     "name": "stdout",
     "output_type": "stream",
     "text": [
      "Total Amount from last Month =  918.0\n"
     ]
    }
   ],
   "source": [
    "print('Total Amount from last Month = ', last_month_total)"
   ]
  },
  {
   "cell_type": "markdown",
   "metadata": {},
   "source": [
    "### Amount Earned by Month"
   ]
  },
  {
   "cell_type": "code",
   "execution_count": 8,
   "metadata": {},
   "outputs": [],
   "source": [
    "df2 = pd.DataFrame(df, columns=['Amount','Order Result', 'Close Date'])\n",
    "df2 = df2[(df2['Order Result']=='Won order')] # df1 should have only ros where the order was won\n",
    "df2 = df2[(df2['Close Date'].dt.year == 2019)] # df1 should only contain rows where the year is 2019"
   ]
  },
  {
   "cell_type": "code",
   "execution_count": 9,
   "metadata": {},
   "outputs": [
    {
     "data": {
      "text/html": [
       "<div>\n",
       "<style scoped>\n",
       "    .dataframe tbody tr th:only-of-type {\n",
       "        vertical-align: middle;\n",
       "    }\n",
       "\n",
       "    .dataframe tbody tr th {\n",
       "        vertical-align: top;\n",
       "    }\n",
       "\n",
       "    .dataframe thead th {\n",
       "        text-align: right;\n",
       "    }\n",
       "</style>\n",
       "<table border=\"1\" class=\"dataframe\">\n",
       "  <thead>\n",
       "    <tr style=\"text-align: right;\">\n",
       "      <th></th>\n",
       "      <th>Amount</th>\n",
       "      <th>Order Result</th>\n",
       "      <th>Close Date</th>\n",
       "    </tr>\n",
       "  </thead>\n",
       "  <tbody>\n",
       "    <tr>\n",
       "      <th>15</th>\n",
       "      <td>6392.0</td>\n",
       "      <td>Won order</td>\n",
       "      <td>2019-04-24</td>\n",
       "    </tr>\n",
       "    <tr>\n",
       "      <th>20</th>\n",
       "      <td>1060.0</td>\n",
       "      <td>Won order</td>\n",
       "      <td>2019-03-31</td>\n",
       "    </tr>\n",
       "    <tr>\n",
       "      <th>27</th>\n",
       "      <td>560.0</td>\n",
       "      <td>Won order</td>\n",
       "      <td>2019-03-16</td>\n",
       "    </tr>\n",
       "    <tr>\n",
       "      <th>34</th>\n",
       "      <td>210.0</td>\n",
       "      <td>Won order</td>\n",
       "      <td>2019-04-16</td>\n",
       "    </tr>\n",
       "    <tr>\n",
       "      <th>35</th>\n",
       "      <td>324.0</td>\n",
       "      <td>Won order</td>\n",
       "      <td>2019-05-30</td>\n",
       "    </tr>\n",
       "  </tbody>\n",
       "</table>\n",
       "</div>"
      ],
      "text/plain": [
       "    Amount Order Result Close Date\n",
       "15  6392.0    Won order 2019-04-24\n",
       "20  1060.0    Won order 2019-03-31\n",
       "27   560.0    Won order 2019-03-16\n",
       "34   210.0    Won order 2019-04-16\n",
       "35   324.0    Won order 2019-05-30"
      ]
     },
     "execution_count": 9,
     "metadata": {},
     "output_type": "execute_result"
    }
   ],
   "source": [
    "df2.head()"
   ]
  },
  {
   "cell_type": "code",
   "execution_count": 10,
   "metadata": {},
   "outputs": [],
   "source": [
    "df2['month'] = df2['Close Date'].dt.month"
   ]
  },
  {
   "cell_type": "code",
   "execution_count": 11,
   "metadata": {},
   "outputs": [
    {
     "data": {
      "text/html": [
       "<div>\n",
       "<style scoped>\n",
       "    .dataframe tbody tr th:only-of-type {\n",
       "        vertical-align: middle;\n",
       "    }\n",
       "\n",
       "    .dataframe tbody tr th {\n",
       "        vertical-align: top;\n",
       "    }\n",
       "\n",
       "    .dataframe thead th {\n",
       "        text-align: right;\n",
       "    }\n",
       "</style>\n",
       "<table border=\"1\" class=\"dataframe\">\n",
       "  <thead>\n",
       "    <tr style=\"text-align: right;\">\n",
       "      <th></th>\n",
       "      <th>Amount</th>\n",
       "      <th>Order Result</th>\n",
       "      <th>Close Date</th>\n",
       "      <th>month</th>\n",
       "    </tr>\n",
       "  </thead>\n",
       "  <tbody>\n",
       "    <tr>\n",
       "      <th>15</th>\n",
       "      <td>6392.0</td>\n",
       "      <td>Won order</td>\n",
       "      <td>2019-04-24</td>\n",
       "      <td>4</td>\n",
       "    </tr>\n",
       "    <tr>\n",
       "      <th>20</th>\n",
       "      <td>1060.0</td>\n",
       "      <td>Won order</td>\n",
       "      <td>2019-03-31</td>\n",
       "      <td>3</td>\n",
       "    </tr>\n",
       "    <tr>\n",
       "      <th>27</th>\n",
       "      <td>560.0</td>\n",
       "      <td>Won order</td>\n",
       "      <td>2019-03-16</td>\n",
       "      <td>3</td>\n",
       "    </tr>\n",
       "    <tr>\n",
       "      <th>34</th>\n",
       "      <td>210.0</td>\n",
       "      <td>Won order</td>\n",
       "      <td>2019-04-16</td>\n",
       "      <td>4</td>\n",
       "    </tr>\n",
       "    <tr>\n",
       "      <th>35</th>\n",
       "      <td>324.0</td>\n",
       "      <td>Won order</td>\n",
       "      <td>2019-05-30</td>\n",
       "      <td>5</td>\n",
       "    </tr>\n",
       "  </tbody>\n",
       "</table>\n",
       "</div>"
      ],
      "text/plain": [
       "    Amount Order Result Close Date  month\n",
       "15  6392.0    Won order 2019-04-24      4\n",
       "20  1060.0    Won order 2019-03-31      3\n",
       "27   560.0    Won order 2019-03-16      3\n",
       "34   210.0    Won order 2019-04-16      4\n",
       "35   324.0    Won order 2019-05-30      5"
      ]
     },
     "execution_count": 11,
     "metadata": {},
     "output_type": "execute_result"
    }
   ],
   "source": [
    "df2.head()"
   ]
  },
  {
   "cell_type": "code",
   "execution_count": 12,
   "metadata": {},
   "outputs": [],
   "source": [
    "df2.drop(['Order Result', 'Close Date'], axis=1, inplace=True)"
   ]
  },
  {
   "cell_type": "code",
   "execution_count": 13,
   "metadata": {},
   "outputs": [],
   "source": [
    "df3 = df2.groupby(['month']).sum()"
   ]
  },
  {
   "cell_type": "code",
   "execution_count": 34,
   "metadata": {},
   "outputs": [
    {
     "data": {
      "text/html": [
       "<div>\n",
       "<style scoped>\n",
       "    .dataframe tbody tr th:only-of-type {\n",
       "        vertical-align: middle;\n",
       "    }\n",
       "\n",
       "    .dataframe tbody tr th {\n",
       "        vertical-align: top;\n",
       "    }\n",
       "\n",
       "    .dataframe thead th {\n",
       "        text-align: right;\n",
       "    }\n",
       "</style>\n",
       "<table border=\"1\" class=\"dataframe\">\n",
       "  <thead>\n",
       "    <tr style=\"text-align: right;\">\n",
       "      <th></th>\n",
       "      <th>Amount</th>\n",
       "    </tr>\n",
       "    <tr>\n",
       "      <th>month</th>\n",
       "      <th></th>\n",
       "    </tr>\n",
       "  </thead>\n",
       "  <tbody>\n",
       "    <tr>\n",
       "      <th>1</th>\n",
       "      <td>4560.0000</td>\n",
       "    </tr>\n",
       "    <tr>\n",
       "      <th>2</th>\n",
       "      <td>11814.2002</td>\n",
       "    </tr>\n",
       "    <tr>\n",
       "      <th>3</th>\n",
       "      <td>15528.0000</td>\n",
       "    </tr>\n",
       "    <tr>\n",
       "      <th>4</th>\n",
       "      <td>14128.0000</td>\n",
       "    </tr>\n",
       "    <tr>\n",
       "      <th>5</th>\n",
       "      <td>8496.0000</td>\n",
       "    </tr>\n",
       "    <tr>\n",
       "      <th>6</th>\n",
       "      <td>918.0000</td>\n",
       "    </tr>\n",
       "  </tbody>\n",
       "</table>\n",
       "</div>"
      ],
      "text/plain": [
       "           Amount\n",
       "month            \n",
       "1       4560.0000\n",
       "2      11814.2002\n",
       "3      15528.0000\n",
       "4      14128.0000\n",
       "5       8496.0000\n",
       "6        918.0000"
      ]
     },
     "execution_count": 34,
     "metadata": {},
     "output_type": "execute_result"
    }
   ],
   "source": [
    "df3"
   ]
  },
  {
   "cell_type": "code",
   "execution_count": 39,
   "metadata": {},
   "outputs": [
    {
     "data": {
      "image/png": "[encoded data removed]",
      "text/plain": [
       "<Figure size 432x288 with 1 Axes>"
      ]
     },
     "metadata": {},
     "output_type": "display_data"
    }
   ],
   "source": [
    "df3.plot(kind='line', color='green')\n",
    "plt.xlabel('Month')\n",
    "plt.title('2019 Monthly Revenue')\n",
    "plt.legend().set_visible(False)"
   ]
  },
  {
   "cell_type": "code",
   "execution_count": 15,
   "metadata": {},
   "outputs": [
    {
     "data": {
      "text/html": [
       "<div>\n",
       "<style scoped>\n",
       "    .dataframe tbody tr th:only-of-type {\n",
       "        vertical-align: middle;\n",
       "    }\n",
       "\n",
       "    .dataframe tbody tr th {\n",
       "        vertical-align: top;\n",
       "    }\n",
       "\n",
       "    .dataframe thead th {\n",
       "        text-align: right;\n",
       "    }\n",
       "</style>\n",
       "<table border=\"1\" class=\"dataframe\">\n",
       "  <thead>\n",
       "    <tr style=\"text-align: right;\">\n",
       "      <th></th>\n",
       "      <th>Client Name</th>\n",
       "      <th>Order Result</th>\n",
       "      <th>Amount</th>\n",
       "      <th>Close Date</th>\n",
       "      <th>Business Type</th>\n",
       "      <th>Lead Source</th>\n",
       "      <th>Created Date</th>\n",
       "      <th>Loss Reason</th>\n",
       "      <th>Project Name</th>\n",
       "      <th>Project Location</th>\n",
       "    </tr>\n",
       "  </thead>\n",
       "  <tbody>\n",
       "    <tr>\n",
       "      <th>0</th>\n",
       "      <td>Client 1</td>\n",
       "      <td>Lost order</td>\n",
       "      <td>5616.0</td>\n",
       "      <td>2019-04-22</td>\n",
       "      <td>New Business</td>\n",
       "      <td>Phone</td>\n",
       "      <td>2019-04-30 08:49:52</td>\n",
       "      <td>Price</td>\n",
       "      <td>Project 1</td>\n",
       "      <td>Abu Dhabi Region</td>\n",
       "    </tr>\n",
       "    <tr>\n",
       "      <th>1</th>\n",
       "      <td>Client 2</td>\n",
       "      <td>Lost order</td>\n",
       "      <td>1840.0</td>\n",
       "      <td>2019-01-29</td>\n",
       "      <td>NaN</td>\n",
       "      <td>NaN</td>\n",
       "      <td>2019-04-27 07:43:51</td>\n",
       "      <td>NaN</td>\n",
       "      <td>Project 2</td>\n",
       "      <td>Abu Dhabi</td>\n",
       "    </tr>\n",
       "    <tr>\n",
       "      <th>2</th>\n",
       "      <td>Client 3</td>\n",
       "      <td>Lost order</td>\n",
       "      <td>0.0</td>\n",
       "      <td>2019-01-21</td>\n",
       "      <td>NaN</td>\n",
       "      <td>NaN</td>\n",
       "      <td>2019-04-27 07:16:53</td>\n",
       "      <td>NaN</td>\n",
       "      <td>Project 3</td>\n",
       "      <td>Abu Dhabi</td>\n",
       "    </tr>\n",
       "    <tr>\n",
       "      <th>3</th>\n",
       "      <td>Client 4</td>\n",
       "      <td>Lost order</td>\n",
       "      <td>37370.0</td>\n",
       "      <td>2019-04-13</td>\n",
       "      <td>New Business</td>\n",
       "      <td>Phone</td>\n",
       "      <td>2019-04-29 13:46:46</td>\n",
       "      <td>No Decision / Non-Responsive</td>\n",
       "      <td>Project 4</td>\n",
       "      <td>Abu Dhabi</td>\n",
       "    </tr>\n",
       "    <tr>\n",
       "      <th>4</th>\n",
       "      <td>Client 5</td>\n",
       "      <td>Lost order</td>\n",
       "      <td>4720.0</td>\n",
       "      <td>2019-04-13</td>\n",
       "      <td>New Business</td>\n",
       "      <td>Phone</td>\n",
       "      <td>2019-04-29 12:33:56</td>\n",
       "      <td>Other</td>\n",
       "      <td>Project 5</td>\n",
       "      <td>Abu Dhabi</td>\n",
       "    </tr>\n",
       "  </tbody>\n",
       "</table>\n",
       "</div>"
      ],
      "text/plain": [
       "  Client Name Order Result   Amount Close Date Business Type Lead Source  \\\n",
       "0    Client 1   Lost order   5616.0 2019-04-22  New Business       Phone   \n",
       "1    Client 2   Lost order   1840.0 2019-01-29           NaN         NaN   \n",
       "2    Client 3   Lost order      0.0 2019-01-21           NaN         NaN   \n",
       "3    Client 4   Lost order  37370.0 2019-04-13  New Business       Phone   \n",
       "4    Client 5   Lost order   4720.0 2019-04-13  New Business       Phone   \n",
       "\n",
       "         Created Date                   Loss Reason Project Name  \\\n",
       "0 2019-04-30 08:49:52                         Price    Project 1   \n",
       "1 2019-04-27 07:43:51                           NaN    Project 2   \n",
       "2 2019-04-27 07:16:53                           NaN    Project 3   \n",
       "3 2019-04-29 13:46:46  No Decision / Non-Responsive    Project 4   \n",
       "4 2019-04-29 12:33:56                         Other    Project 5   \n",
       "\n",
       "   Project Location  \n",
       "0  Abu Dhabi Region  \n",
       "1         Abu Dhabi  \n",
       "2         Abu Dhabi  \n",
       "3         Abu Dhabi  \n",
       "4         Abu Dhabi  "
      ]
     },
     "execution_count": 15,
     "metadata": {},
     "output_type": "execute_result"
    }
   ],
   "source": [
    "df.head()"
   ]
  },
  {
   "cell_type": "code",
   "execution_count": 16,
   "metadata": {},
   "outputs": [],
   "source": [
    "df_new = pd.DataFrame(df, columns=['Business Type', 'Order Result', 'Close Date'])\n",
    "df_new = df_new[(df_new['Order Result']=='Won order')] # df1 should have only ros where the order was won\n",
    "df_new = df_new[(df_new['Close Date'].dt.year == 2019)]# df1 should only contain rows where the year is 2019\n",
    "df_new = df_new[(df_new['Business Type']=='New Business')]\n",
    "df_new['month']=df_new['Close Date'].dt.month"
   ]
  },
  {
   "cell_type": "code",
   "execution_count": 17,
   "metadata": {},
   "outputs": [
    {
     "data": {
      "text/html": [
       "<div>\n",
       "<style scoped>\n",
       "    .dataframe tbody tr th:only-of-type {\n",
       "        vertical-align: middle;\n",
       "    }\n",
       "\n",
       "    .dataframe tbody tr th {\n",
       "        vertical-align: top;\n",
       "    }\n",
       "\n",
       "    .dataframe thead th {\n",
       "        text-align: right;\n",
       "    }\n",
       "</style>\n",
       "<table border=\"1\" class=\"dataframe\">\n",
       "  <thead>\n",
       "    <tr style=\"text-align: right;\">\n",
       "      <th></th>\n",
       "      <th>Business Type</th>\n",
       "      <th>Order Result</th>\n",
       "      <th>Close Date</th>\n",
       "      <th>month</th>\n",
       "    </tr>\n",
       "  </thead>\n",
       "  <tbody>\n",
       "    <tr>\n",
       "      <th>15</th>\n",
       "      <td>New Business</td>\n",
       "      <td>Won order</td>\n",
       "      <td>2019-04-24</td>\n",
       "      <td>4</td>\n",
       "    </tr>\n",
       "    <tr>\n",
       "      <th>20</th>\n",
       "      <td>New Business</td>\n",
       "      <td>Won order</td>\n",
       "      <td>2019-03-31</td>\n",
       "      <td>3</td>\n",
       "    </tr>\n",
       "    <tr>\n",
       "      <th>27</th>\n",
       "      <td>New Business</td>\n",
       "      <td>Won order</td>\n",
       "      <td>2019-03-16</td>\n",
       "      <td>3</td>\n",
       "    </tr>\n",
       "    <tr>\n",
       "      <th>47</th>\n",
       "      <td>New Business</td>\n",
       "      <td>Won order</td>\n",
       "      <td>2019-04-28</td>\n",
       "      <td>4</td>\n",
       "    </tr>\n",
       "    <tr>\n",
       "      <th>52</th>\n",
       "      <td>New Business</td>\n",
       "      <td>Won order</td>\n",
       "      <td>2019-03-30</td>\n",
       "      <td>3</td>\n",
       "    </tr>\n",
       "    <tr>\n",
       "      <th>207</th>\n",
       "      <td>New Business</td>\n",
       "      <td>Won order</td>\n",
       "      <td>2019-03-19</td>\n",
       "      <td>3</td>\n",
       "    </tr>\n",
       "    <tr>\n",
       "      <th>234</th>\n",
       "      <td>New Business</td>\n",
       "      <td>Won order</td>\n",
       "      <td>2019-02-05</td>\n",
       "      <td>2</td>\n",
       "    </tr>\n",
       "  </tbody>\n",
       "</table>\n",
       "</div>"
      ],
      "text/plain": [
       "    Business Type Order Result Close Date  month\n",
       "15   New Business    Won order 2019-04-24      4\n",
       "20   New Business    Won order 2019-03-31      3\n",
       "27   New Business    Won order 2019-03-16      3\n",
       "47   New Business    Won order 2019-04-28      4\n",
       "52   New Business    Won order 2019-03-30      3\n",
       "207  New Business    Won order 2019-03-19      3\n",
       "234  New Business    Won order 2019-02-05      2"
      ]
     },
     "execution_count": 17,
     "metadata": {},
     "output_type": "execute_result"
    }
   ],
   "source": [
    "df_new"
   ]
  },
  {
   "cell_type": "code",
   "execution_count": 18,
   "metadata": {},
   "outputs": [],
   "source": [
    "df_new.drop(['Order Result', 'Close Date'], axis=1, inplace =True)\n"
   ]
  },
  {
   "cell_type": "code",
   "execution_count": 23,
   "metadata": {},
   "outputs": [],
   "source": [
    "df_new.rename(columns={'Business Type':'New Business'}, inplace=True)"
   ]
  },
  {
   "cell_type": "code",
   "execution_count": 25,
   "metadata": {},
   "outputs": [],
   "source": [
    "graph_table=df_new.groupby(['month']).count()"
   ]
  },
  {
   "cell_type": "code",
   "execution_count": 38,
   "metadata": {},
   "outputs": [
    {
     "data": {
      "image/png": "[encoded data removed]",
      "text/plain": [
       "<Figure size 432x288 with 1 Axes>"
      ]
     },
     "metadata": {},
     "output_type": "display_data"
    }
   ],
   "source": [
    "graph_table.plot(kind='bar', color='grey')\n",
    "plt.xlabel('Month')\n",
    "plt.title('2019 Monthly New Business Aquired')\n",
    "plt.legend().set_visible(False)"
   ]
  },
  {
   "cell_type": "code",
   "execution_count": null,
   "metadata": {},
   "outputs": [],
   "source": []
  }
 ],
 "metadata": {
  "kernelspec": {
   "display_name": "Python 3",
   "language": "python",
   "name": "python3"
  },
  "language_info": {
   "codemirror_mode": {
    "name": "ipython",
    "version": 3
   },
   "file_extension": ".py",
   "mimetype": "text/x-python",
   "name": "python",
   "nbconvert_exporter": "python",
   "pygments_lexer": "ipython3",
   "version": "3.6.5"
  }
 },
 "nbformat": 4,
 "nbformat_minor": 2
}
